{
 "cells": [
  {
   "cell_type": "code",
   "execution_count": 1,
   "metadata": {
    "ExecuteTime": {
     "end_time": "2020-11-17T14:34:54.678554Z",
     "start_time": "2020-11-17T14:34:52.368085Z"
    }
   },
   "outputs": [],
   "source": [
    "import pandas as pd\n",
    "import datetime \n",
    "from datetime import timedelta\n",
    "\n",
    "import numpy as np\n",
    "import seaborn as sns\n",
    "import matplotlib.pyplot as plt\n",
    "\n",
    "from sklearn.model_selection import train_test_split\n",
    "from sklearn.linear_model import LinearRegression\n",
    "from sklearn.metrics import mean_squared_error\n",
    "\n",
    "import math"
   ]
  },
  {
   "cell_type": "code",
   "execution_count": 2,
   "metadata": {
    "ExecuteTime": {
     "end_time": "2020-11-17T14:34:54.711025Z",
     "start_time": "2020-11-17T14:34:54.680698Z"
    }
   },
   "outputs": [
    {
     "data": {
      "text/html": [
       "<div>\n",
       "<style scoped>\n",
       "    .dataframe tbody tr th:only-of-type {\n",
       "        vertical-align: middle;\n",
       "    }\n",
       "\n",
       "    .dataframe tbody tr th {\n",
       "        vertical-align: top;\n",
       "    }\n",
       "\n",
       "    .dataframe thead th {\n",
       "        text-align: right;\n",
       "    }\n",
       "</style>\n",
       "<table border=\"1\" class=\"dataframe\">\n",
       "  <thead>\n",
       "    <tr style=\"text-align: right;\">\n",
       "      <th></th>\n",
       "      <th>Unnamed: 0</th>\n",
       "      <th>week_start</th>\n",
       "      <th>volume_sales</th>\n",
       "      <th>volume_sales_merch</th>\n",
       "      <th>volume_sales_price_reduce</th>\n",
       "      <th>volume_sales_feature</th>\n",
       "      <th>volume_sales_display</th>\n",
       "      <th>chicken_meal_deal</th>\n",
       "      <th>sec_deli</th>\n",
       "      <th>sec_bakery</th>\n",
       "      <th>...</th>\n",
       "      <th>NE Q4 Heavy Up \\ TV</th>\n",
       "      <th>NE Q4 Heavy Up \\ Radio</th>\n",
       "      <th>NE Q4 Heavy Up \\ OOH</th>\n",
       "      <th>BASEBALL</th>\n",
       "      <th>BILLBOARD</th>\n",
       "      <th>DIGITAL</th>\n",
       "      <th>RADIO</th>\n",
       "      <th>SPONSORSHIP</th>\n",
       "      <th>TV</th>\n",
       "      <th>VOD</th>\n",
       "    </tr>\n",
       "  </thead>\n",
       "  <tbody>\n",
       "    <tr>\n",
       "      <th>0</th>\n",
       "      <td>0</td>\n",
       "      <td>1/1/18</td>\n",
       "      <td>1715897.724</td>\n",
       "      <td>1.141203e+06</td>\n",
       "      <td>7.037752e+05</td>\n",
       "      <td>11874.46896</td>\n",
       "      <td>725089.7700</td>\n",
       "      <td>0.089623</td>\n",
       "      <td>0.057783</td>\n",
       "      <td>0.033019</td>\n",
       "      <td>...</td>\n",
       "      <td>0</td>\n",
       "      <td>0</td>\n",
       "      <td>0</td>\n",
       "      <td>0.0</td>\n",
       "      <td>0</td>\n",
       "      <td>0.0</td>\n",
       "      <td>0.0</td>\n",
       "      <td>0</td>\n",
       "      <td>0.00</td>\n",
       "      <td>0.00</td>\n",
       "    </tr>\n",
       "    <tr>\n",
       "      <th>1</th>\n",
       "      <td>1</td>\n",
       "      <td>1/8/18</td>\n",
       "      <td>1435106.907</td>\n",
       "      <td>9.135088e+05</td>\n",
       "      <td>3.892043e+05</td>\n",
       "      <td>38589.27999</td>\n",
       "      <td>615666.6837</td>\n",
       "      <td>0.090482</td>\n",
       "      <td>0.057579</td>\n",
       "      <td>0.022327</td>\n",
       "      <td>...</td>\n",
       "      <td>0</td>\n",
       "      <td>0</td>\n",
       "      <td>0</td>\n",
       "      <td>0.0</td>\n",
       "      <td>0</td>\n",
       "      <td>0.0</td>\n",
       "      <td>0.0</td>\n",
       "      <td>0</td>\n",
       "      <td>0.00</td>\n",
       "      <td>0.00</td>\n",
       "    </tr>\n",
       "    <tr>\n",
       "      <th>2</th>\n",
       "      <td>2</td>\n",
       "      <td>1/15/18</td>\n",
       "      <td>1392563.409</td>\n",
       "      <td>8.978826e+05</td>\n",
       "      <td>4.334663e+05</td>\n",
       "      <td>34808.71644</td>\n",
       "      <td>595837.1872</td>\n",
       "      <td>0.091873</td>\n",
       "      <td>0.057715</td>\n",
       "      <td>0.020024</td>\n",
       "      <td>...</td>\n",
       "      <td>0</td>\n",
       "      <td>0</td>\n",
       "      <td>0</td>\n",
       "      <td>0.0</td>\n",
       "      <td>0</td>\n",
       "      <td>0.0</td>\n",
       "      <td>0.0</td>\n",
       "      <td>0</td>\n",
       "      <td>325950.65</td>\n",
       "      <td>37496.71</td>\n",
       "    </tr>\n",
       "    <tr>\n",
       "      <th>3</th>\n",
       "      <td>3</td>\n",
       "      <td>1/22/18</td>\n",
       "      <td>1393401.237</td>\n",
       "      <td>9.541495e+05</td>\n",
       "      <td>6.197307e+05</td>\n",
       "      <td>47374.39127</td>\n",
       "      <td>606422.4579</td>\n",
       "      <td>0.089202</td>\n",
       "      <td>0.057512</td>\n",
       "      <td>0.023474</td>\n",
       "      <td>...</td>\n",
       "      <td>0</td>\n",
       "      <td>0</td>\n",
       "      <td>0</td>\n",
       "      <td>0.0</td>\n",
       "      <td>0</td>\n",
       "      <td>0.0</td>\n",
       "      <td>0.0</td>\n",
       "      <td>0</td>\n",
       "      <td>321946.30</td>\n",
       "      <td>37496.71</td>\n",
       "    </tr>\n",
       "    <tr>\n",
       "      <th>4</th>\n",
       "      <td>4</td>\n",
       "      <td>1/29/18</td>\n",
       "      <td>1938644.818</td>\n",
       "      <td>1.418473e+06</td>\n",
       "      <td>1.191214e+06</td>\n",
       "      <td>480359.05080</td>\n",
       "      <td>971064.1176</td>\n",
       "      <td>0.090376</td>\n",
       "      <td>0.057512</td>\n",
       "      <td>0.035211</td>\n",
       "      <td>...</td>\n",
       "      <td>0</td>\n",
       "      <td>0</td>\n",
       "      <td>0</td>\n",
       "      <td>0.0</td>\n",
       "      <td>0</td>\n",
       "      <td>0.0</td>\n",
       "      <td>0.0</td>\n",
       "      <td>0</td>\n",
       "      <td>189397.90</td>\n",
       "      <td>37295.74</td>\n",
       "    </tr>\n",
       "  </tbody>\n",
       "</table>\n",
       "<p>5 rows × 52 columns</p>\n",
       "</div>"
      ],
      "text/plain": [
       "   Unnamed: 0 week_start  volume_sales  volume_sales_merch  \\\n",
       "0           0     1/1/18   1715897.724        1.141203e+06   \n",
       "1           1     1/8/18   1435106.907        9.135088e+05   \n",
       "2           2    1/15/18   1392563.409        8.978826e+05   \n",
       "3           3    1/22/18   1393401.237        9.541495e+05   \n",
       "4           4    1/29/18   1938644.818        1.418473e+06   \n",
       "\n",
       "   volume_sales_price_reduce  volume_sales_feature  volume_sales_display  \\\n",
       "0               7.037752e+05           11874.46896           725089.7700   \n",
       "1               3.892043e+05           38589.27999           615666.6837   \n",
       "2               4.334663e+05           34808.71644           595837.1872   \n",
       "3               6.197307e+05           47374.39127           606422.4579   \n",
       "4               1.191214e+06          480359.05080           971064.1176   \n",
       "\n",
       "   chicken_meal_deal  sec_deli  sec_bakery  ...  NE Q4 Heavy Up \\ TV  \\\n",
       "0           0.089623  0.057783    0.033019  ...                    0   \n",
       "1           0.090482  0.057579    0.022327  ...                    0   \n",
       "2           0.091873  0.057715    0.020024  ...                    0   \n",
       "3           0.089202  0.057512    0.023474  ...                    0   \n",
       "4           0.090376  0.057512    0.035211  ...                    0   \n",
       "\n",
       "   NE Q4 Heavy Up \\ Radio  NE Q4 Heavy Up \\ OOH  BASEBALL  BILLBOARD  DIGITAL  \\\n",
       "0                       0                     0       0.0          0      0.0   \n",
       "1                       0                     0       0.0          0      0.0   \n",
       "2                       0                     0       0.0          0      0.0   \n",
       "3                       0                     0       0.0          0      0.0   \n",
       "4                       0                     0       0.0          0      0.0   \n",
       "\n",
       "  RADIO  SPONSORSHIP         TV       VOD  \n",
       "0   0.0            0       0.00      0.00  \n",
       "1   0.0            0       0.00      0.00  \n",
       "2   0.0            0  325950.65  37496.71  \n",
       "3   0.0            0  321946.30  37496.71  \n",
       "4   0.0            0  189397.90  37295.74  \n",
       "\n",
       "[5 rows x 52 columns]"
      ]
     },
     "execution_count": 2,
     "metadata": {},
     "output_type": "execute_result"
    }
   ],
   "source": [
    "volume18 = pd.read_csv('DATA/Clean/2018VolumeByWeek.csv')\n",
    "volume18.head()"
   ]
  },
  {
   "cell_type": "code",
   "execution_count": 3,
   "metadata": {
    "ExecuteTime": {
     "end_time": "2020-11-17T14:34:54.727449Z",
     "start_time": "2020-11-17T14:34:54.713497Z"
    }
   },
   "outputs": [
    {
     "name": "stdout",
     "output_type": "stream",
     "text": [
      "<class 'pandas.core.frame.DataFrame'>\n",
      "RangeIndex: 53 entries, 0 to 52\n",
      "Data columns (total 52 columns):\n",
      " #   Column                                 Non-Null Count  Dtype  \n",
      "---  ------                                 --------------  -----  \n",
      " 0   Unnamed: 0                             53 non-null     int64  \n",
      " 1   week_start                             53 non-null     object \n",
      " 2   volume_sales                           53 non-null     float64\n",
      " 3   volume_sales_merch                     53 non-null     float64\n",
      " 4   volume_sales_price_reduce              53 non-null     float64\n",
      " 5   volume_sales_feature                   53 non-null     float64\n",
      " 6   volume_sales_display                   53 non-null     float64\n",
      " 7   chicken_meal_deal                      53 non-null     float64\n",
      " 8   sec_deli                               53 non-null     float64\n",
      " 9   sec_bakery                             53 non-null     float64\n",
      " 10  sec_center                             53 non-null     float64\n",
      " 11  retail_cover                           53 non-null     float64\n",
      " 12  year                                   53 non-null     int64  \n",
      " 13  month                                  53 non-null     int64  \n",
      " 14  week                                   53 non-null     int64  \n",
      " 15  quarter                                53 non-null     int64  \n",
      " 16  holiday                                53 non-null     object \n",
      " 17  holiday_binary                         53 non-null     int64  \n",
      " 18  ABC - SCS Sponsorship                  53 non-null     int64  \n",
      " 19  ABC - Media (TV)                       53 non-null     float64\n",
      " 20  ABC - Media (Digital)                  53 non-null     float64\n",
      " 21  Tonnage - Weather Channel              53 non-null     float64\n",
      " 22  Tonnage - Simulmedia                   53 non-null     int64  \n",
      " 23  Tonnage - Simumedia Matchback          53 non-null     int64  \n",
      " 24  Tonnage - AudienceXpress               53 non-null     int64  \n",
      " 25  Tonnage - Fox & Friends                53 non-null     float64\n",
      " 26  Tonnage - Hallmark                     53 non-null     float64\n",
      " 27  Scripps - Food Network                 53 non-null     float64\n",
      " 28  Scripps - Cooking Channel              53 non-null     float64\n",
      " 29  Scripps - HGTV                         53 non-null     float64\n",
      " 30  Scripps - DIY                          53 non-null     float64\n",
      " 31  Scripps - Travel                       53 non-null     float64\n",
      " 32  Scripps - GAC                          53 non-null     float64\n",
      " 33  VOD - CBS                              53 non-null     int64  \n",
      " 34  VOD - NBC                              53 non-null     int64  \n",
      " 35  VOD - HULU                             53 non-null     float64\n",
      " 36  Local Radio - \"Best Block Party Ever\"  53 non-null     float64\n",
      " 37  Yankees \\KH Grill                      53 non-null     float64\n",
      " 38  Baseball                               53 non-null     float64\n",
      " 39  ATT - Direct TV                        53 non-null     int64  \n",
      " 40  CFB - FS1                              53 non-null     int64  \n",
      " 41  CFB - FSGO                             53 non-null     int64  \n",
      " 42  NE Q4 Heavy Up \\ TV                    53 non-null     int64  \n",
      " 43  NE Q4 Heavy Up \\ Radio                 53 non-null     int64  \n",
      " 44  NE Q4 Heavy Up \\ OOH                   53 non-null     int64  \n",
      " 45  BASEBALL                               53 non-null     float64\n",
      " 46  BILLBOARD                              53 non-null     int64  \n",
      " 47  DIGITAL                                53 non-null     float64\n",
      " 48  RADIO                                  53 non-null     float64\n",
      " 49  SPONSORSHIP                            53 non-null     int64  \n",
      " 50  TV                                     53 non-null     float64\n",
      " 51  VOD                                    53 non-null     float64\n",
      "dtypes: float64(30), int64(20), object(2)\n",
      "memory usage: 21.7+ KB\n"
     ]
    }
   ],
   "source": [
    "volume18.info()"
   ]
  },
  {
   "cell_type": "code",
   "execution_count": 4,
   "metadata": {
    "ExecuteTime": {
     "end_time": "2020-11-17T14:34:54.734897Z",
     "start_time": "2020-11-17T14:34:54.730557Z"
    }
   },
   "outputs": [],
   "source": [
    "volume18['week_start'] = pd.to_datetime(volume18['week_start'])"
   ]
  },
  {
   "cell_type": "code",
   "execution_count": 5,
   "metadata": {
    "ExecuteTime": {
     "end_time": "2020-11-17T14:34:54.742408Z",
     "start_time": "2020-11-17T14:34:54.736974Z"
    }
   },
   "outputs": [
    {
     "data": {
      "text/plain": [
       "None             33\n",
       "Christmas/NY      5\n",
       "Easter Week       4\n",
       "Thanksgiving      3\n",
       "Halloween         3\n",
       "Memorial Week     2\n",
       "July 4th          2\n",
       "Labor Day         1\n",
       "Name: holiday, dtype: int64"
      ]
     },
     "execution_count": 5,
     "metadata": {},
     "output_type": "execute_result"
    }
   ],
   "source": [
    "volume18['holiday'].value_counts()"
   ]
  },
  {
   "cell_type": "markdown",
   "metadata": {},
   "source": [
    "Notes: chicken_meal_deal, sec_deli ,sec_bakery,  sec_center are grouped by week and aggregated by mean, which is the percentage of products being put in a deal in that week, across all the product, all the stores. \n"
   ]
  },
  {
   "cell_type": "code",
   "execution_count": 6,
   "metadata": {
    "ExecuteTime": {
     "end_time": "2020-11-17T14:34:54.753983Z",
     "start_time": "2020-11-17T14:34:54.744475Z"
    }
   },
   "outputs": [],
   "source": [
    "volume18_new = pd.get_dummies(volume18)\n",
    "volume18_new = volume18_new.drop(['Unnamed: 0','holiday_None'], axis = 'columns')"
   ]
  },
  {
   "cell_type": "code",
   "execution_count": 7,
   "metadata": {
    "ExecuteTime": {
     "end_time": "2020-11-17T14:34:54.760187Z",
     "start_time": "2020-11-17T14:34:54.755969Z"
    }
   },
   "outputs": [
    {
     "data": {
      "text/plain": [
       "(53, 57)"
      ]
     },
     "execution_count": 7,
     "metadata": {},
     "output_type": "execute_result"
    }
   ],
   "source": [
    "volume18_new.shape"
   ]
  },
  {
   "cell_type": "code",
   "execution_count": 8,
   "metadata": {
    "ExecuteTime": {
     "end_time": "2020-11-17T14:34:54.797895Z",
     "start_time": "2020-11-17T14:34:54.773840Z"
    }
   },
   "outputs": [
    {
     "data": {
      "text/html": [
       "<div>\n",
       "<style scoped>\n",
       "    .dataframe tbody tr th:only-of-type {\n",
       "        vertical-align: middle;\n",
       "    }\n",
       "\n",
       "    .dataframe tbody tr th {\n",
       "        vertical-align: top;\n",
       "    }\n",
       "\n",
       "    .dataframe thead th {\n",
       "        text-align: right;\n",
       "    }\n",
       "</style>\n",
       "<table border=\"1\" class=\"dataframe\">\n",
       "  <thead>\n",
       "    <tr style=\"text-align: right;\">\n",
       "      <th></th>\n",
       "      <th>week_start</th>\n",
       "      <th>volume_sales</th>\n",
       "      <th>volume_sales_merch</th>\n",
       "      <th>volume_sales_price_reduce</th>\n",
       "      <th>volume_sales_feature</th>\n",
       "      <th>volume_sales_display</th>\n",
       "      <th>chicken_meal_deal</th>\n",
       "      <th>sec_deli</th>\n",
       "      <th>sec_bakery</th>\n",
       "      <th>sec_center</th>\n",
       "      <th>...</th>\n",
       "      <th>SPONSORSHIP</th>\n",
       "      <th>TV</th>\n",
       "      <th>VOD</th>\n",
       "      <th>holiday_Christmas/NY</th>\n",
       "      <th>holiday_Easter Week</th>\n",
       "      <th>holiday_Halloween</th>\n",
       "      <th>holiday_July 4th</th>\n",
       "      <th>holiday_Labor Day</th>\n",
       "      <th>holiday_Memorial Week</th>\n",
       "      <th>holiday_Thanksgiving</th>\n",
       "    </tr>\n",
       "  </thead>\n",
       "  <tbody>\n",
       "    <tr>\n",
       "      <th>0</th>\n",
       "      <td>2018-01-01</td>\n",
       "      <td>1715897.724</td>\n",
       "      <td>1.141203e+06</td>\n",
       "      <td>7.037752e+05</td>\n",
       "      <td>11874.46896</td>\n",
       "      <td>725089.7700</td>\n",
       "      <td>0.089623</td>\n",
       "      <td>0.057783</td>\n",
       "      <td>0.033019</td>\n",
       "      <td>0.135613</td>\n",
       "      <td>...</td>\n",
       "      <td>0</td>\n",
       "      <td>0.00</td>\n",
       "      <td>0.00</td>\n",
       "      <td>1</td>\n",
       "      <td>0</td>\n",
       "      <td>0</td>\n",
       "      <td>0</td>\n",
       "      <td>0</td>\n",
       "      <td>0</td>\n",
       "      <td>0</td>\n",
       "    </tr>\n",
       "    <tr>\n",
       "      <th>1</th>\n",
       "      <td>2018-01-08</td>\n",
       "      <td>1435106.907</td>\n",
       "      <td>9.135088e+05</td>\n",
       "      <td>3.892043e+05</td>\n",
       "      <td>38589.27999</td>\n",
       "      <td>615666.6837</td>\n",
       "      <td>0.090482</td>\n",
       "      <td>0.057579</td>\n",
       "      <td>0.022327</td>\n",
       "      <td>0.128085</td>\n",
       "      <td>...</td>\n",
       "      <td>0</td>\n",
       "      <td>0.00</td>\n",
       "      <td>0.00</td>\n",
       "      <td>0</td>\n",
       "      <td>0</td>\n",
       "      <td>0</td>\n",
       "      <td>0</td>\n",
       "      <td>0</td>\n",
       "      <td>0</td>\n",
       "      <td>0</td>\n",
       "    </tr>\n",
       "    <tr>\n",
       "      <th>2</th>\n",
       "      <td>2018-01-15</td>\n",
       "      <td>1392563.409</td>\n",
       "      <td>8.978826e+05</td>\n",
       "      <td>4.334663e+05</td>\n",
       "      <td>34808.71644</td>\n",
       "      <td>595837.1872</td>\n",
       "      <td>0.091873</td>\n",
       "      <td>0.057715</td>\n",
       "      <td>0.020024</td>\n",
       "      <td>0.129564</td>\n",
       "      <td>...</td>\n",
       "      <td>0</td>\n",
       "      <td>325950.65</td>\n",
       "      <td>37496.71</td>\n",
       "      <td>0</td>\n",
       "      <td>0</td>\n",
       "      <td>0</td>\n",
       "      <td>0</td>\n",
       "      <td>0</td>\n",
       "      <td>0</td>\n",
       "      <td>0</td>\n",
       "    </tr>\n",
       "    <tr>\n",
       "      <th>3</th>\n",
       "      <td>2018-01-22</td>\n",
       "      <td>1393401.237</td>\n",
       "      <td>9.541495e+05</td>\n",
       "      <td>6.197307e+05</td>\n",
       "      <td>47374.39127</td>\n",
       "      <td>606422.4579</td>\n",
       "      <td>0.089202</td>\n",
       "      <td>0.057512</td>\n",
       "      <td>0.023474</td>\n",
       "      <td>0.127934</td>\n",
       "      <td>...</td>\n",
       "      <td>0</td>\n",
       "      <td>321946.30</td>\n",
       "      <td>37496.71</td>\n",
       "      <td>0</td>\n",
       "      <td>0</td>\n",
       "      <td>0</td>\n",
       "      <td>0</td>\n",
       "      <td>0</td>\n",
       "      <td>0</td>\n",
       "      <td>0</td>\n",
       "    </tr>\n",
       "    <tr>\n",
       "      <th>4</th>\n",
       "      <td>2018-01-29</td>\n",
       "      <td>1938644.818</td>\n",
       "      <td>1.418473e+06</td>\n",
       "      <td>1.191214e+06</td>\n",
       "      <td>480359.05080</td>\n",
       "      <td>971064.1176</td>\n",
       "      <td>0.090376</td>\n",
       "      <td>0.057512</td>\n",
       "      <td>0.035211</td>\n",
       "      <td>0.127934</td>\n",
       "      <td>...</td>\n",
       "      <td>0</td>\n",
       "      <td>189397.90</td>\n",
       "      <td>37295.74</td>\n",
       "      <td>0</td>\n",
       "      <td>0</td>\n",
       "      <td>0</td>\n",
       "      <td>0</td>\n",
       "      <td>0</td>\n",
       "      <td>0</td>\n",
       "      <td>0</td>\n",
       "    </tr>\n",
       "  </tbody>\n",
       "</table>\n",
       "<p>5 rows × 57 columns</p>\n",
       "</div>"
      ],
      "text/plain": [
       "  week_start  volume_sales  volume_sales_merch  volume_sales_price_reduce  \\\n",
       "0 2018-01-01   1715897.724        1.141203e+06               7.037752e+05   \n",
       "1 2018-01-08   1435106.907        9.135088e+05               3.892043e+05   \n",
       "2 2018-01-15   1392563.409        8.978826e+05               4.334663e+05   \n",
       "3 2018-01-22   1393401.237        9.541495e+05               6.197307e+05   \n",
       "4 2018-01-29   1938644.818        1.418473e+06               1.191214e+06   \n",
       "\n",
       "   volume_sales_feature  volume_sales_display  chicken_meal_deal  sec_deli  \\\n",
       "0           11874.46896           725089.7700           0.089623  0.057783   \n",
       "1           38589.27999           615666.6837           0.090482  0.057579   \n",
       "2           34808.71644           595837.1872           0.091873  0.057715   \n",
       "3           47374.39127           606422.4579           0.089202  0.057512   \n",
       "4          480359.05080           971064.1176           0.090376  0.057512   \n",
       "\n",
       "   sec_bakery  sec_center  ...  SPONSORSHIP         TV       VOD  \\\n",
       "0    0.033019    0.135613  ...            0       0.00      0.00   \n",
       "1    0.022327    0.128085  ...            0       0.00      0.00   \n",
       "2    0.020024    0.129564  ...            0  325950.65  37496.71   \n",
       "3    0.023474    0.127934  ...            0  321946.30  37496.71   \n",
       "4    0.035211    0.127934  ...            0  189397.90  37295.74   \n",
       "\n",
       "   holiday_Christmas/NY  holiday_Easter Week  holiday_Halloween  \\\n",
       "0                     1                    0                  0   \n",
       "1                     0                    0                  0   \n",
       "2                     0                    0                  0   \n",
       "3                     0                    0                  0   \n",
       "4                     0                    0                  0   \n",
       "\n",
       "   holiday_July 4th  holiday_Labor Day  holiday_Memorial Week  \\\n",
       "0                 0                  0                      0   \n",
       "1                 0                  0                      0   \n",
       "2                 0                  0                      0   \n",
       "3                 0                  0                      0   \n",
       "4                 0                  0                      0   \n",
       "\n",
       "   holiday_Thanksgiving  \n",
       "0                     0  \n",
       "1                     0  \n",
       "2                     0  \n",
       "3                     0  \n",
       "4                     0  \n",
       "\n",
       "[5 rows x 57 columns]"
      ]
     },
     "execution_count": 8,
     "metadata": {},
     "output_type": "execute_result"
    }
   ],
   "source": [
    "volume18_new.head()"
   ]
  },
  {
   "cell_type": "code",
   "execution_count": 9,
   "metadata": {
    "ExecuteTime": {
     "end_time": "2020-11-17T14:34:54.804079Z",
     "start_time": "2020-11-17T14:34:54.801557Z"
    }
   },
   "outputs": [],
   "source": [
    "week_effect =volume18_new['week_start'] "
   ]
  },
  {
   "cell_type": "code",
   "execution_count": 10,
   "metadata": {
    "ExecuteTime": {
     "end_time": "2020-11-17T14:34:54.813864Z",
     "start_time": "2020-11-17T14:34:54.805927Z"
    }
   },
   "outputs": [],
   "source": [
    "delta = timedelta(weeks = 2)\n",
    "\n",
    "volume18_new['week_effect'] = volume18_new['week_start']  + delta "
   ]
  },
  {
   "cell_type": "code",
   "execution_count": 11,
   "metadata": {
    "ExecuteTime": {
     "end_time": "2020-11-17T14:34:54.839126Z",
     "start_time": "2020-11-17T14:34:54.816056Z"
    }
   },
   "outputs": [
    {
     "data": {
      "text/html": [
       "<div>\n",
       "<style scoped>\n",
       "    .dataframe tbody tr th:only-of-type {\n",
       "        vertical-align: middle;\n",
       "    }\n",
       "\n",
       "    .dataframe tbody tr th {\n",
       "        vertical-align: top;\n",
       "    }\n",
       "\n",
       "    .dataframe thead th {\n",
       "        text-align: right;\n",
       "    }\n",
       "</style>\n",
       "<table border=\"1\" class=\"dataframe\">\n",
       "  <thead>\n",
       "    <tr style=\"text-align: right;\">\n",
       "      <th></th>\n",
       "      <th>week_start</th>\n",
       "      <th>volume_sales</th>\n",
       "      <th>volume_sales_merch</th>\n",
       "      <th>volume_sales_price_reduce</th>\n",
       "      <th>volume_sales_feature</th>\n",
       "      <th>volume_sales_display</th>\n",
       "      <th>chicken_meal_deal</th>\n",
       "      <th>sec_deli</th>\n",
       "      <th>sec_bakery</th>\n",
       "      <th>sec_center</th>\n",
       "      <th>...</th>\n",
       "      <th>TV</th>\n",
       "      <th>VOD</th>\n",
       "      <th>holiday_Christmas/NY</th>\n",
       "      <th>holiday_Easter Week</th>\n",
       "      <th>holiday_Halloween</th>\n",
       "      <th>holiday_July 4th</th>\n",
       "      <th>holiday_Labor Day</th>\n",
       "      <th>holiday_Memorial Week</th>\n",
       "      <th>holiday_Thanksgiving</th>\n",
       "      <th>week_effect</th>\n",
       "    </tr>\n",
       "  </thead>\n",
       "  <tbody>\n",
       "    <tr>\n",
       "      <th>0</th>\n",
       "      <td>2018-01-01</td>\n",
       "      <td>1715897.724</td>\n",
       "      <td>1.141203e+06</td>\n",
       "      <td>703775.2260</td>\n",
       "      <td>11874.46896</td>\n",
       "      <td>725089.7700</td>\n",
       "      <td>0.089623</td>\n",
       "      <td>0.057783</td>\n",
       "      <td>0.033019</td>\n",
       "      <td>0.135613</td>\n",
       "      <td>...</td>\n",
       "      <td>0.00</td>\n",
       "      <td>0.00</td>\n",
       "      <td>1</td>\n",
       "      <td>0</td>\n",
       "      <td>0</td>\n",
       "      <td>0</td>\n",
       "      <td>0</td>\n",
       "      <td>0</td>\n",
       "      <td>0</td>\n",
       "      <td>2018-01-15</td>\n",
       "    </tr>\n",
       "    <tr>\n",
       "      <th>1</th>\n",
       "      <td>2018-01-08</td>\n",
       "      <td>1435106.907</td>\n",
       "      <td>9.135088e+05</td>\n",
       "      <td>389204.3256</td>\n",
       "      <td>38589.27999</td>\n",
       "      <td>615666.6837</td>\n",
       "      <td>0.090482</td>\n",
       "      <td>0.057579</td>\n",
       "      <td>0.022327</td>\n",
       "      <td>0.128085</td>\n",
       "      <td>...</td>\n",
       "      <td>0.00</td>\n",
       "      <td>0.00</td>\n",
       "      <td>0</td>\n",
       "      <td>0</td>\n",
       "      <td>0</td>\n",
       "      <td>0</td>\n",
       "      <td>0</td>\n",
       "      <td>0</td>\n",
       "      <td>0</td>\n",
       "      <td>2018-01-22</td>\n",
       "    </tr>\n",
       "    <tr>\n",
       "      <th>2</th>\n",
       "      <td>2018-01-15</td>\n",
       "      <td>1392563.409</td>\n",
       "      <td>8.978826e+05</td>\n",
       "      <td>433466.2757</td>\n",
       "      <td>34808.71644</td>\n",
       "      <td>595837.1872</td>\n",
       "      <td>0.091873</td>\n",
       "      <td>0.057715</td>\n",
       "      <td>0.020024</td>\n",
       "      <td>0.129564</td>\n",
       "      <td>...</td>\n",
       "      <td>325950.65</td>\n",
       "      <td>37496.71</td>\n",
       "      <td>0</td>\n",
       "      <td>0</td>\n",
       "      <td>0</td>\n",
       "      <td>0</td>\n",
       "      <td>0</td>\n",
       "      <td>0</td>\n",
       "      <td>0</td>\n",
       "      <td>2018-01-29</td>\n",
       "    </tr>\n",
       "  </tbody>\n",
       "</table>\n",
       "<p>3 rows × 58 columns</p>\n",
       "</div>"
      ],
      "text/plain": [
       "  week_start  volume_sales  volume_sales_merch  volume_sales_price_reduce  \\\n",
       "0 2018-01-01   1715897.724        1.141203e+06                703775.2260   \n",
       "1 2018-01-08   1435106.907        9.135088e+05                389204.3256   \n",
       "2 2018-01-15   1392563.409        8.978826e+05                433466.2757   \n",
       "\n",
       "   volume_sales_feature  volume_sales_display  chicken_meal_deal  sec_deli  \\\n",
       "0           11874.46896           725089.7700           0.089623  0.057783   \n",
       "1           38589.27999           615666.6837           0.090482  0.057579   \n",
       "2           34808.71644           595837.1872           0.091873  0.057715   \n",
       "\n",
       "   sec_bakery  sec_center  ...         TV       VOD  holiday_Christmas/NY  \\\n",
       "0    0.033019    0.135613  ...       0.00      0.00                     1   \n",
       "1    0.022327    0.128085  ...       0.00      0.00                     0   \n",
       "2    0.020024    0.129564  ...  325950.65  37496.71                     0   \n",
       "\n",
       "   holiday_Easter Week  holiday_Halloween  holiday_July 4th  \\\n",
       "0                    0                  0                 0   \n",
       "1                    0                  0                 0   \n",
       "2                    0                  0                 0   \n",
       "\n",
       "   holiday_Labor Day  holiday_Memorial Week  holiday_Thanksgiving  week_effect  \n",
       "0                  0                      0                     0   2018-01-15  \n",
       "1                  0                      0                     0   2018-01-22  \n",
       "2                  0                      0                     0   2018-01-29  \n",
       "\n",
       "[3 rows x 58 columns]"
      ]
     },
     "execution_count": 11,
     "metadata": {},
     "output_type": "execute_result"
    }
   ],
   "source": [
    "volume18_new.head(3)"
   ]
  },
  {
   "cell_type": "code",
   "execution_count": 12,
   "metadata": {
    "ExecuteTime": {
     "end_time": "2020-11-17T14:34:54.845294Z",
     "start_time": "2020-11-17T14:34:54.841224Z"
    }
   },
   "outputs": [
    {
     "data": {
      "text/plain": [
       "Index(['week_start', 'volume_sales', 'volume_sales_merch',\n",
       "       'volume_sales_price_reduce', 'volume_sales_feature',\n",
       "       'volume_sales_display', 'chicken_meal_deal', 'sec_deli', 'sec_bakery',\n",
       "       'sec_center', 'retail_cover', 'year', 'month', 'week', 'quarter',\n",
       "       'holiday_binary', 'ABC - SCS Sponsorship', 'ABC - Media (TV)',\n",
       "       'ABC - Media (Digital)', 'Tonnage - Weather Channel',\n",
       "       'Tonnage - Simulmedia', 'Tonnage - Simumedia Matchback',\n",
       "       'Tonnage - AudienceXpress', 'Tonnage - Fox & Friends',\n",
       "       'Tonnage - Hallmark', 'Scripps - Food Network',\n",
       "       'Scripps - Cooking Channel', 'Scripps - HGTV', 'Scripps - DIY',\n",
       "       'Scripps - Travel', 'Scripps - GAC', 'VOD - CBS', 'VOD - NBC',\n",
       "       'VOD - HULU', 'Local Radio - \"Best Block Party Ever\"',\n",
       "       'Yankees \\KH Grill', 'Baseball', 'ATT - Direct TV', 'CFB - FS1',\n",
       "       'CFB - FSGO', 'NE Q4 Heavy Up \\ TV', 'NE Q4 Heavy Up \\ Radio',\n",
       "       'NE Q4 Heavy Up \\ OOH', 'BASEBALL', 'BILLBOARD', 'DIGITAL', 'RADIO',\n",
       "       'SPONSORSHIP', 'TV', 'VOD', 'holiday_Christmas/NY',\n",
       "       'holiday_Easter Week', 'holiday_Halloween', 'holiday_July 4th',\n",
       "       'holiday_Labor Day', 'holiday_Memorial Week', 'holiday_Thanksgiving',\n",
       "       'week_effect'],\n",
       "      dtype='object')"
      ]
     },
     "execution_count": 12,
     "metadata": {},
     "output_type": "execute_result"
    }
   ],
   "source": [
    "volume18_new.columns"
   ]
  },
  {
   "cell_type": "code",
   "execution_count": 13,
   "metadata": {
    "ExecuteTime": {
     "end_time": "2020-11-17T14:34:54.854949Z",
     "start_time": "2020-11-17T14:34:54.848280Z"
    }
   },
   "outputs": [],
   "source": [
    "variables = volume18_new[[ 'chicken_meal_deal', 'sec_deli', 'sec_bakery',\n",
    "       'sec_center', 'retail_cover', 'year', 'month', 'week', 'quarter','BASEBALL', 'BILLBOARD', 'DIGITAL', 'RADIO',\n",
    "       'SPONSORSHIP', 'TV', 'VOD', 'holiday_Christmas/NY',\n",
    "       'holiday_Easter Week', 'holiday_Halloween', 'holiday_July 4th',\n",
    "       'holiday_Labor Day', 'holiday_Memorial Week', 'holiday_Thanksgiving',\n",
    "       'week_start']]\n",
    "sales =volume18_new[['volume_sales','volume_sales_merch',\n",
    "       'volume_sales_price_reduce', 'volume_sales_feature',\n",
    "       'volume_sales_display','week_effect']]\n",
    "\n"
   ]
  },
  {
   "cell_type": "code",
   "execution_count": 14,
   "metadata": {
    "ExecuteTime": {
     "end_time": "2020-11-17T14:34:54.861676Z",
     "start_time": "2020-11-17T14:34:54.856426Z"
    }
   },
   "outputs": [],
   "source": [
    "merge_data = variables.merge(sales,left_on = 'week_start',right_on ='week_effect' )\n"
   ]
  },
  {
   "cell_type": "code",
   "execution_count": 15,
   "metadata": {
    "ExecuteTime": {
     "end_time": "2020-11-17T14:34:54.878132Z",
     "start_time": "2020-11-17T14:34:54.864174Z"
    }
   },
   "outputs": [],
   "source": [
    "from sklearn.preprocessing import StandardScaler\n",
    "\n",
    "numeric_cols = merge_data.select_dtypes(include=[np.number])\n",
    "categoric_cols = merge_data.select_dtypes(include=[object])\n",
    "scaler = StandardScaler()\n",
    "# Fit and transform, convert to DF\n",
    "numeric_cols_scaled = scaler.fit_transform(numeric_cols)\n",
    "numeric_cols_scaledDF = pd.DataFrame(numeric_cols_scaled, columns=numeric_cols.columns)\n",
    "# Concatenate categoric columns to scaled numeric columns\n",
    "final_DF = pd.concat([categoric_cols, numeric_cols_scaledDF], axis=1)\n",
    "merge_data = final_DF"
   ]
  },
  {
   "cell_type": "code",
   "execution_count": 16,
   "metadata": {
    "ExecuteTime": {
     "end_time": "2020-11-17T14:34:54.935218Z",
     "start_time": "2020-11-17T14:34:54.880433Z"
    }
   },
   "outputs": [
    {
     "data": {
      "text/plain": [
       "array([-2.36799037e-02,  3.03641882e-02, -1.43864958e-02, -1.61434075e-02,\n",
       "       -2.87112305e-02, -1.08834436e-02, -4.99600361e-16, -6.94818847e-03,\n",
       "       -8.43444573e-03,  1.97225692e-02, -2.28402494e-02,  1.99572638e-02,\n",
       "       -1.88012372e-02, -1.60462800e-02,  5.76521768e-03, -1.41965807e-02,\n",
       "       -1.94289029e-16,  5.52062241e-03, -1.25254743e-02,  2.11076328e-01,\n",
       "        7.73971454e-02, -1.74468951e-01,  8.72545686e-01])"
      ]
     },
     "execution_count": 16,
     "metadata": {},
     "output_type": "execute_result"
    }
   ],
   "source": [
    "X = merge_data.drop(['volume_sales','quarter','week','month','year'], axis = 1) \n",
    "y = merge_data['volume_sales']\n",
    "X_train,X_test, y_train,y_test = train_test_split(X, y, test_size = 0.25,random_state =1)                                                 \n",
    "model = LinearRegression()\n",
    "model.fit(X_train,y_train)                                                   \n",
    "                                                    \n",
    "model.coef_                                                                       "
   ]
  },
  {
   "cell_type": "code",
   "execution_count": 17,
   "metadata": {
    "ExecuteTime": {
     "end_time": "2020-11-17T14:34:54.941506Z",
     "start_time": "2020-11-17T14:34:54.937607Z"
    }
   },
   "outputs": [
    {
     "data": {
      "text/plain": [
       "Index(['chicken_meal_deal', 'sec_deli', 'sec_bakery', 'sec_center',\n",
       "       'retail_cover', 'BASEBALL', 'BILLBOARD', 'DIGITAL', 'RADIO',\n",
       "       'SPONSORSHIP', 'TV', 'VOD', 'holiday_Christmas/NY',\n",
       "       'holiday_Easter Week', 'holiday_Halloween', 'holiday_July 4th',\n",
       "       'holiday_Labor Day', 'holiday_Memorial Week', 'holiday_Thanksgiving',\n",
       "       'volume_sales_merch', 'volume_sales_price_reduce',\n",
       "       'volume_sales_feature', 'volume_sales_display'],\n",
       "      dtype='object')"
      ]
     },
     "execution_count": 17,
     "metadata": {},
     "output_type": "execute_result"
    }
   ],
   "source": [
    "X_train.columns"
   ]
  },
  {
   "cell_type": "code",
   "execution_count": 18,
   "metadata": {
    "ExecuteTime": {
     "end_time": "2020-11-17T14:34:54.949106Z",
     "start_time": "2020-11-17T14:34:54.943758Z"
    }
   },
   "outputs": [
    {
     "name": "stdout",
     "output_type": "stream",
     "text": [
      "chicken_meal_deal\t:  -0.02\n",
      "sec_deli\t:  0.03\n",
      "sec_bakery\t:  -0.01\n",
      "sec_center\t:  -0.02\n",
      "retail_cover\t:  -0.03\n",
      "BASEBALL\t:  -0.01\n",
      "BILLBOARD\t:  -0.0\n",
      "DIGITAL\t:  -0.01\n",
      "RADIO\t:  -0.01\n",
      "SPONSORSHIP\t:  0.02\n",
      "TV\t:  -0.02\n",
      "VOD\t:  0.02\n",
      "holiday_Christmas/NY\t:  -0.02\n",
      "holiday_Easter Week\t:  -0.02\n",
      "holiday_Halloween\t:  0.01\n",
      "holiday_July 4th\t:  -0.01\n",
      "holiday_Labor Day\t:  -0.0\n",
      "holiday_Memorial Week\t:  0.01\n",
      "holiday_Thanksgiving\t:  -0.01\n",
      "volume_sales_merch\t:  0.21\n",
      "volume_sales_price_reduce\t:  0.08\n",
      "volume_sales_feature\t:  -0.17\n",
      "volume_sales_display\t:  0.87\n"
     ]
    }
   ],
   "source": [
    "\n",
    "for i, col in enumerate(X_train.columns):\n",
    "    print(col + \"\\t: \", round(model.coef_[i], 2))"
   ]
  },
  {
   "cell_type": "code",
   "execution_count": 19,
   "metadata": {
    "ExecuteTime": {
     "end_time": "2020-11-17T14:34:54.956361Z",
     "start_time": "2020-11-17T14:34:54.951643Z"
    }
   },
   "outputs": [
    {
     "data": {
      "text/plain": [
       "0.0069479436871127676"
      ]
     },
     "execution_count": 19,
     "metadata": {},
     "output_type": "execute_result"
    }
   ],
   "source": [
    "model.intercept_"
   ]
  },
  {
   "cell_type": "code",
   "execution_count": 20,
   "metadata": {
    "ExecuteTime": {
     "end_time": "2020-11-17T14:34:54.967098Z",
     "start_time": "2020-11-17T14:34:54.958375Z"
    }
   },
   "outputs": [
    {
     "data": {
      "text/plain": [
       "0.9933488291593878"
      ]
     },
     "execution_count": 20,
     "metadata": {},
     "output_type": "execute_result"
    }
   ],
   "source": [
    "model.score(X_test, y_test)"
   ]
  },
  {
   "cell_type": "code",
   "execution_count": 21,
   "metadata": {
    "ExecuteTime": {
     "end_time": "2020-11-17T14:34:54.976098Z",
     "start_time": "2020-11-17T14:34:54.969598Z"
    }
   },
   "outputs": [
    {
     "data": {
      "text/plain": [
       "0.006587227597649856"
      ]
     },
     "execution_count": 21,
     "metadata": {},
     "output_type": "execute_result"
    }
   ],
   "source": [
    "y_predict = model.predict(X_test)\n",
    "MSE = mean_squared_error(y_predict, y_test)\n",
    "MSE"
   ]
  },
  {
   "cell_type": "code",
   "execution_count": 22,
   "metadata": {
    "ExecuteTime": {
     "end_time": "2020-11-17T14:34:54.999517Z",
     "start_time": "2020-11-17T14:34:54.977948Z"
    }
   },
   "outputs": [
    {
     "data": {
      "text/plain": [
       "0.006587227597649856"
      ]
     },
     "execution_count": 22,
     "metadata": {},
     "output_type": "execute_result"
    }
   ],
   "source": [
    "((y_test - y_predict)**2).mean()"
   ]
  },
  {
   "cell_type": "code",
   "execution_count": 23,
   "metadata": {
    "ExecuteTime": {
     "end_time": "2020-11-17T14:34:55.011478Z",
     "start_time": "2020-11-17T14:34:55.008337Z"
    }
   },
   "outputs": [
    {
     "data": {
      "text/plain": [
       "0.08116173727594707"
      ]
     },
     "execution_count": 23,
     "metadata": {},
     "output_type": "execute_result"
    }
   ],
   "source": [
    "math.sqrt(MSE)"
   ]
  },
  {
   "cell_type": "code",
   "execution_count": 24,
   "metadata": {
    "ExecuteTime": {
     "end_time": "2020-11-17T14:34:55.021323Z",
     "start_time": "2020-11-17T14:34:55.016830Z"
    }
   },
   "outputs": [],
   "source": [
    "from sklearn.linear_model import LassoCV\n",
    "from sklearn.pipeline import make_pipeline\n",
    "# Import function to automatically create polynomial features! \n",
    "from sklearn.preprocessing import PolynomialFeatures"
   ]
  },
  {
   "cell_type": "code",
   "execution_count": 25,
   "metadata": {
    "ExecuteTime": {
     "end_time": "2020-11-17T14:34:55.026158Z",
     "start_time": "2020-11-17T14:34:55.023283Z"
    }
   },
   "outputs": [],
   "source": [
    "# Alpha (regularization strength) of LASSO regression\n",
    "lasso_eps = 0.0001\n",
    "lasso_nalpha=20\n",
    "lasso_iter=5000\n",
    "# Min and max degree of polynomials features to consider\n",
    "degree_min = 2\n",
    "degree_max = 8"
   ]
  },
  {
   "cell_type": "code",
   "execution_count": 26,
   "metadata": {
    "ExecuteTime": {
     "end_time": "2020-11-17T14:34:55.031175Z",
     "start_time": "2020-11-17T14:34:55.028700Z"
    }
   },
   "outputs": [],
   "source": [
    "# print(f'degree\\tRMSE\\ttest_score')\n",
    "# for degree in range(degree_min,degree_max+1):\n",
    "    \n",
    "#     model = make_pipeline(PolynomialFeatures(degree, interaction_only=False), LassoCV(eps=lasso_eps,n_alphas=lasso_nalpha,max_iter=lasso_iter,\n",
    "# normalize=True,cv=5))\n",
    "#     model.fit(X_train,y_train)\n",
    "#     test_pred = np.array(model.predict(X_test))\n",
    "#     RMSE=np.sqrt(np.sum(np.square(test_pred-y_test)))\n",
    "#     test_score = model.score(X_test,y_test)\n",
    "# print(f'{degree},{tRMSE},{ttest_score}')\n",
    "      "
   ]
  },
  {
   "cell_type": "code",
   "execution_count": 27,
   "metadata": {
    "ExecuteTime": {
     "end_time": "2020-11-17T14:34:55.245751Z",
     "start_time": "2020-11-17T14:34:55.033314Z"
    }
   },
   "outputs": [
    {
     "data": {
      "text/plain": [
       "<matplotlib.axes._subplots.AxesSubplot at 0x1ba73f35dc8>"
      ]
     },
     "execution_count": 27,
     "metadata": {},
     "output_type": "execute_result"
    },
    {
     "data": {
      "image/png": "[encoded data removed]",
      "text/plain": [
       "<Figure size 432x288 with 1 Axes>"
      ]
     },
     "metadata": {
      "needs_background": "light"
     },
     "output_type": "display_data"
    }
   ],
   "source": [
    "sns.lineplot(data = merge_data, x = 'TV', y = 'volume_sales')"
   ]
  },
  {
   "cell_type": "code",
   "execution_count": 28,
   "metadata": {
    "ExecuteTime": {
     "end_time": "2020-11-17T14:34:55.565060Z",
     "start_time": "2020-11-17T14:34:55.247854Z"
    }
   },
   "outputs": [
    {
     "data": {
      "text/plain": [
       "<matplotlib.axes._subplots.AxesSubplot at 0x1ba74007388>"
      ]
     },
     "execution_count": 28,
     "metadata": {},
     "output_type": "execute_result"
    },
    {
     "data": {
      "image/png": "[encoded data removed]",
      "text/plain": [
       "<Figure size 432x288 with 1 Axes>"
      ]
     },
     "metadata": {
      "needs_background": "light"
     },
     "output_type": "display_data"
    }
   ],
   "source": [
    "sns.lineplot(data = merge_data, x = 'VOD', y = 'volume_sales')"
   ]
  },
  {
   "cell_type": "code",
   "execution_count": 29,
   "metadata": {
    "ExecuteTime": {
     "end_time": "2020-11-17T14:34:55.750123Z",
     "start_time": "2020-11-17T14:34:55.567751Z"
    }
   },
   "outputs": [
    {
     "data": {
      "text/plain": [
       "<matplotlib.axes._subplots.AxesSubplot at 0x1ba740a26c8>"
      ]
     },
     "execution_count": 29,
     "metadata": {},
     "output_type": "execute_result"
    },
    {
     "data": {
      "image/png": "[encoded data removed]",
      "text/plain": [
       "<Figure size 432x288 with 1 Axes>"
      ]
     },
     "metadata": {
      "needs_background": "light"
     },
     "output_type": "display_data"
    }
   ],
   "source": [
    "sns.lineplot(data = merge_data, x = 'SPONSORSHIP', y = 'volume_sales')"
   ]
  },
  {
   "cell_type": "markdown",
   "metadata": {},
   "source": [
    "## During non-holiday"
   ]
  },
  {
   "cell_type": "code",
   "execution_count": 30,
   "metadata": {
    "ExecuteTime": {
     "end_time": "2020-11-17T14:34:55.756522Z",
     "start_time": "2020-11-17T14:34:55.751997Z"
    }
   },
   "outputs": [],
   "source": [
    "variables2 = volume18_new[[ 'chicken_meal_deal', 'sec_deli', 'sec_bakery',\n",
    "       'sec_center', 'retail_cover', 'year', 'month', 'week', 'quarter','BASEBALL', 'BILLBOARD', 'DIGITAL', 'RADIO',\n",
    "       'SPONSORSHIP', 'TV', 'VOD','holiday_binary',\n",
    "       'week_start']]\n",
    "sales2 =volume18_new[['volume_sales','volume_sales_merch',\n",
    "       'volume_sales_price_reduce', 'volume_sales_feature',\n",
    "       'volume_sales_display','week_effect']]"
   ]
  },
  {
   "cell_type": "code",
   "execution_count": 31,
   "metadata": {
    "ExecuteTime": {
     "end_time": "2020-11-17T14:34:55.769868Z",
     "start_time": "2020-11-17T14:34:55.758213Z"
    }
   },
   "outputs": [],
   "source": [
    "merge_data2 = variables2.merge(sales2,left_on = 'week_start',right_on ='week_effect' )\n"
   ]
  },
  {
   "cell_type": "code",
   "execution_count": 32,
   "metadata": {
    "ExecuteTime": {
     "end_time": "2020-11-17T14:34:55.776728Z",
     "start_time": "2020-11-17T14:34:55.771953Z"
    }
   },
   "outputs": [],
   "source": [
    "no_holiday = merge_data2[merge_data2['holiday_binary'] == 0]\n",
    "no_holiday2 = no_holiday.fillna(0)\n"
   ]
  },
  {
   "cell_type": "code",
   "execution_count": 33,
   "metadata": {
    "ExecuteTime": {
     "end_time": "2020-11-17T14:34:55.790412Z",
     "start_time": "2020-11-17T14:34:55.778726Z"
    }
   },
   "outputs": [],
   "source": [
    "from sklearn.preprocessing import StandardScaler\n",
    "\n",
    "numeric_cols = no_holiday2.select_dtypes(include=[np.number])\n",
    "categoric_cols = no_holiday2.select_dtypes(include=[object])\n",
    "scaler = StandardScaler()\n",
    "# Fit and transform, convert to DF\n",
    "numeric_cols_scaled = scaler.fit_transform(numeric_cols)\n",
    "numeric_cols_scaledDF = pd.DataFrame(numeric_cols_scaled, columns=numeric_cols.columns)\n",
    "# Concatenate categoric columns to scaled numeric columns\n",
    "final_DF = pd.concat([categoric_cols, numeric_cols_scaledDF], axis=1)\n",
    "no_holiday3 = final_DF"
   ]
  },
  {
   "cell_type": "code",
   "execution_count": 34,
   "metadata": {
    "ExecuteTime": {
     "end_time": "2020-11-17T14:34:55.862459Z",
     "start_time": "2020-11-17T14:34:55.791733Z"
    }
   },
   "outputs": [
    {
     "data": {
      "text/html": [
       "<div>\n",
       "<style scoped>\n",
       "    .dataframe tbody tr th:only-of-type {\n",
       "        vertical-align: middle;\n",
       "    }\n",
       "\n",
       "    .dataframe tbody tr th {\n",
       "        vertical-align: top;\n",
       "    }\n",
       "\n",
       "    .dataframe thead th {\n",
       "        text-align: right;\n",
       "    }\n",
       "</style>\n",
       "<table border=\"1\" class=\"dataframe\">\n",
       "  <thead>\n",
       "    <tr style=\"text-align: right;\">\n",
       "      <th></th>\n",
       "      <th>chicken_meal_deal</th>\n",
       "      <th>sec_deli</th>\n",
       "      <th>sec_bakery</th>\n",
       "      <th>sec_center</th>\n",
       "      <th>retail_cover</th>\n",
       "      <th>year</th>\n",
       "      <th>month</th>\n",
       "      <th>week</th>\n",
       "      <th>quarter</th>\n",
       "      <th>BASEBALL</th>\n",
       "      <th>...</th>\n",
       "      <th>RADIO</th>\n",
       "      <th>SPONSORSHIP</th>\n",
       "      <th>TV</th>\n",
       "      <th>VOD</th>\n",
       "      <th>holiday_binary</th>\n",
       "      <th>volume_sales</th>\n",
       "      <th>volume_sales_merch</th>\n",
       "      <th>volume_sales_price_reduce</th>\n",
       "      <th>volume_sales_feature</th>\n",
       "      <th>volume_sales_display</th>\n",
       "    </tr>\n",
       "  </thead>\n",
       "  <tbody>\n",
       "    <tr>\n",
       "      <th>count</th>\n",
       "      <td>3.200000e+01</td>\n",
       "      <td>3.200000e+01</td>\n",
       "      <td>3.200000e+01</td>\n",
       "      <td>3.200000e+01</td>\n",
       "      <td>3.200000e+01</td>\n",
       "      <td>32.0</td>\n",
       "      <td>3.200000e+01</td>\n",
       "      <td>3.200000e+01</td>\n",
       "      <td>3.200000e+01</td>\n",
       "      <td>3.200000e+01</td>\n",
       "      <td>...</td>\n",
       "      <td>3.200000e+01</td>\n",
       "      <td>32.000000</td>\n",
       "      <td>3.200000e+01</td>\n",
       "      <td>3.200000e+01</td>\n",
       "      <td>32.0</td>\n",
       "      <td>3.200000e+01</td>\n",
       "      <td>32.000000</td>\n",
       "      <td>3.200000e+01</td>\n",
       "      <td>3.200000e+01</td>\n",
       "      <td>3.200000e+01</td>\n",
       "    </tr>\n",
       "    <tr>\n",
       "      <th>mean</th>\n",
       "      <td>-3.712308e-15</td>\n",
       "      <td>1.540434e-15</td>\n",
       "      <td>2.359224e-16</td>\n",
       "      <td>-3.649858e-15</td>\n",
       "      <td>8.493206e-15</td>\n",
       "      <td>0.0</td>\n",
       "      <td>5.551115e-17</td>\n",
       "      <td>-1.110223e-16</td>\n",
       "      <td>2.081668e-16</td>\n",
       "      <td>-2.775558e-17</td>\n",
       "      <td>...</td>\n",
       "      <td>6.938894e-18</td>\n",
       "      <td>0.000000</td>\n",
       "      <td>7.632783e-17</td>\n",
       "      <td>3.469447e-17</td>\n",
       "      <td>0.0</td>\n",
       "      <td>-1.110223e-16</td>\n",
       "      <td>0.000000</td>\n",
       "      <td>-2.775558e-17</td>\n",
       "      <td>-2.775558e-17</td>\n",
       "      <td>2.775558e-17</td>\n",
       "    </tr>\n",
       "    <tr>\n",
       "      <th>std</th>\n",
       "      <td>1.016001e+00</td>\n",
       "      <td>1.016001e+00</td>\n",
       "      <td>1.016001e+00</td>\n",
       "      <td>1.016001e+00</td>\n",
       "      <td>1.016001e+00</td>\n",
       "      <td>0.0</td>\n",
       "      <td>1.016001e+00</td>\n",
       "      <td>1.016001e+00</td>\n",
       "      <td>1.016001e+00</td>\n",
       "      <td>1.016001e+00</td>\n",
       "      <td>...</td>\n",
       "      <td>1.016001e+00</td>\n",
       "      <td>1.016001</td>\n",
       "      <td>1.016001e+00</td>\n",
       "      <td>1.016001e+00</td>\n",
       "      <td>0.0</td>\n",
       "      <td>1.016001e+00</td>\n",
       "      <td>1.016001</td>\n",
       "      <td>1.016001e+00</td>\n",
       "      <td>1.016001e+00</td>\n",
       "      <td>1.016001e+00</td>\n",
       "    </tr>\n",
       "    <tr>\n",
       "      <th>min</th>\n",
       "      <td>-1.350056e+00</td>\n",
       "      <td>-2.112001e+00</td>\n",
       "      <td>-1.128950e+00</td>\n",
       "      <td>-1.289765e+00</td>\n",
       "      <td>-1.944903e+00</td>\n",
       "      <td>0.0</td>\n",
       "      <td>-1.547509e+00</td>\n",
       "      <td>-1.585785e+00</td>\n",
       "      <td>-1.234514e+00</td>\n",
       "      <td>-7.652000e-01</td>\n",
       "      <td>...</td>\n",
       "      <td>-6.254291e-01</td>\n",
       "      <td>-0.717883</td>\n",
       "      <td>-1.113118e+00</td>\n",
       "      <td>-7.111460e-01</td>\n",
       "      <td>0.0</td>\n",
       "      <td>-4.178181e-01</td>\n",
       "      <td>-0.482091</td>\n",
       "      <td>-6.225447e-01</td>\n",
       "      <td>-5.073760e-01</td>\n",
       "      <td>-4.207431e-01</td>\n",
       "    </tr>\n",
       "    <tr>\n",
       "      <th>25%</th>\n",
       "      <td>-7.294546e-01</td>\n",
       "      <td>-3.268364e-01</td>\n",
       "      <td>-8.920826e-01</td>\n",
       "      <td>-5.528460e-01</td>\n",
       "      <td>-7.288781e-01</td>\n",
       "      <td>0.0</td>\n",
       "      <td>-9.001847e-01</td>\n",
       "      <td>-9.943945e-01</td>\n",
       "      <td>-1.234514e+00</td>\n",
       "      <td>-7.652000e-01</td>\n",
       "      <td>...</td>\n",
       "      <td>-6.254291e-01</td>\n",
       "      <td>-0.717883</td>\n",
       "      <td>-9.096909e-01</td>\n",
       "      <td>-7.111460e-01</td>\n",
       "      <td>0.0</td>\n",
       "      <td>-2.984888e-01</td>\n",
       "      <td>-0.343739</td>\n",
       "      <td>-4.631954e-01</td>\n",
       "      <td>-4.138549e-01</td>\n",
       "      <td>-3.074953e-01</td>\n",
       "    </tr>\n",
       "    <tr>\n",
       "      <th>50%</th>\n",
       "      <td>-5.110235e-01</td>\n",
       "      <td>-1.625653e-01</td>\n",
       "      <td>-1.988080e-01</td>\n",
       "      <td>-2.043772e-01</td>\n",
       "      <td>-6.320707e-03</td>\n",
       "      <td>0.0</td>\n",
       "      <td>7.080104e-02</td>\n",
       "      <td>5.484670e-02</td>\n",
       "      <td>-2.709909e-01</td>\n",
       "      <td>-7.652000e-01</td>\n",
       "      <td>...</td>\n",
       "      <td>-6.254291e-01</td>\n",
       "      <td>-0.717883</td>\n",
       "      <td>-2.770523e-01</td>\n",
       "      <td>-5.518307e-01</td>\n",
       "      <td>0.0</td>\n",
       "      <td>-2.320507e-01</td>\n",
       "      <td>-0.239435</td>\n",
       "      <td>-2.419022e-01</td>\n",
       "      <td>-3.231839e-01</td>\n",
       "      <td>-2.181409e-01</td>\n",
       "    </tr>\n",
       "    <tr>\n",
       "      <th>75%</th>\n",
       "      <td>9.130432e-01</td>\n",
       "      <td>2.382592e-01</td>\n",
       "      <td>7.100673e-01</td>\n",
       "      <td>1.482798e-01</td>\n",
       "      <td>9.275122e-01</td>\n",
       "      <td>0.0</td>\n",
       "      <td>7.181249e-01</td>\n",
       "      <td>7.988541e-01</td>\n",
       "      <td>6.925324e-01</td>\n",
       "      <td>1.275719e+00</td>\n",
       "      <td>...</td>\n",
       "      <td>1.547365e+00</td>\n",
       "      <td>1.083862</td>\n",
       "      <td>5.609134e-01</td>\n",
       "      <td>3.540971e-01</td>\n",
       "      <td>0.0</td>\n",
       "      <td>-1.049323e-01</td>\n",
       "      <td>-0.068179</td>\n",
       "      <td>7.601033e-02</td>\n",
       "      <td>-6.987817e-02</td>\n",
       "      <td>-1.025711e-01</td>\n",
       "    </tr>\n",
       "    <tr>\n",
       "      <th>max</th>\n",
       "      <td>2.257835e+00</td>\n",
       "      <td>3.758280e+00</td>\n",
       "      <td>2.195763e+00</td>\n",
       "      <td>3.593527e+00</td>\n",
       "      <td>1.844057e+00</td>\n",
       "      <td>0.0</td>\n",
       "      <td>2.012773e+00</td>\n",
       "      <td>1.924404e+00</td>\n",
       "      <td>1.656056e+00</td>\n",
       "      <td>1.547331e+00</td>\n",
       "      <td>...</td>\n",
       "      <td>1.623800e+00</td>\n",
       "      <td>1.534298</td>\n",
       "      <td>2.374971e+00</td>\n",
       "      <td>2.457821e+00</td>\n",
       "      <td>0.0</td>\n",
       "      <td>5.472745e+00</td>\n",
       "      <td>5.409524</td>\n",
       "      <td>5.174186e+00</td>\n",
       "      <td>4.991522e+00</td>\n",
       "      <td>5.475524e+00</td>\n",
       "    </tr>\n",
       "  </tbody>\n",
       "</table>\n",
       "<p>8 rows × 22 columns</p>\n",
       "</div>"
      ],
      "text/plain": [
       "       chicken_meal_deal      sec_deli    sec_bakery    sec_center  \\\n",
       "count       3.200000e+01  3.200000e+01  3.200000e+01  3.200000e+01   \n",
       "mean       -3.712308e-15  1.540434e-15  2.359224e-16 -3.649858e-15   \n",
       "std         1.016001e+00  1.016001e+00  1.016001e+00  1.016001e+00   \n",
       "min        -1.350056e+00 -2.112001e+00 -1.128950e+00 -1.289765e+00   \n",
       "25%        -7.294546e-01 -3.268364e-01 -8.920826e-01 -5.528460e-01   \n",
       "50%        -5.110235e-01 -1.625653e-01 -1.988080e-01 -2.043772e-01   \n",
       "75%         9.130432e-01  2.382592e-01  7.100673e-01  1.482798e-01   \n",
       "max         2.257835e+00  3.758280e+00  2.195763e+00  3.593527e+00   \n",
       "\n",
       "       retail_cover  year         month          week       quarter  \\\n",
       "count  3.200000e+01  32.0  3.200000e+01  3.200000e+01  3.200000e+01   \n",
       "mean   8.493206e-15   0.0  5.551115e-17 -1.110223e-16  2.081668e-16   \n",
       "std    1.016001e+00   0.0  1.016001e+00  1.016001e+00  1.016001e+00   \n",
       "min   -1.944903e+00   0.0 -1.547509e+00 -1.585785e+00 -1.234514e+00   \n",
       "25%   -7.288781e-01   0.0 -9.001847e-01 -9.943945e-01 -1.234514e+00   \n",
       "50%   -6.320707e-03   0.0  7.080104e-02  5.484670e-02 -2.709909e-01   \n",
       "75%    9.275122e-01   0.0  7.181249e-01  7.988541e-01  6.925324e-01   \n",
       "max    1.844057e+00   0.0  2.012773e+00  1.924404e+00  1.656056e+00   \n",
       "\n",
       "           BASEBALL  ...         RADIO  SPONSORSHIP            TV  \\\n",
       "count  3.200000e+01  ...  3.200000e+01    32.000000  3.200000e+01   \n",
       "mean  -2.775558e-17  ...  6.938894e-18     0.000000  7.632783e-17   \n",
       "std    1.016001e+00  ...  1.016001e+00     1.016001  1.016001e+00   \n",
       "min   -7.652000e-01  ... -6.254291e-01    -0.717883 -1.113118e+00   \n",
       "25%   -7.652000e-01  ... -6.254291e-01    -0.717883 -9.096909e-01   \n",
       "50%   -7.652000e-01  ... -6.254291e-01    -0.717883 -2.770523e-01   \n",
       "75%    1.275719e+00  ...  1.547365e+00     1.083862  5.609134e-01   \n",
       "max    1.547331e+00  ...  1.623800e+00     1.534298  2.374971e+00   \n",
       "\n",
       "                VOD  holiday_binary  volume_sales  volume_sales_merch  \\\n",
       "count  3.200000e+01            32.0  3.200000e+01           32.000000   \n",
       "mean   3.469447e-17             0.0 -1.110223e-16            0.000000   \n",
       "std    1.016001e+00             0.0  1.016001e+00            1.016001   \n",
       "min   -7.111460e-01             0.0 -4.178181e-01           -0.482091   \n",
       "25%   -7.111460e-01             0.0 -2.984888e-01           -0.343739   \n",
       "50%   -5.518307e-01             0.0 -2.320507e-01           -0.239435   \n",
       "75%    3.540971e-01             0.0 -1.049323e-01           -0.068179   \n",
       "max    2.457821e+00             0.0  5.472745e+00            5.409524   \n",
       "\n",
       "       volume_sales_price_reduce  volume_sales_feature  volume_sales_display  \n",
       "count               3.200000e+01          3.200000e+01          3.200000e+01  \n",
       "mean               -2.775558e-17         -2.775558e-17          2.775558e-17  \n",
       "std                 1.016001e+00          1.016001e+00          1.016001e+00  \n",
       "min                -6.225447e-01         -5.073760e-01         -4.207431e-01  \n",
       "25%                -4.631954e-01         -4.138549e-01         -3.074953e-01  \n",
       "50%                -2.419022e-01         -3.231839e-01         -2.181409e-01  \n",
       "75%                 7.601033e-02         -6.987817e-02         -1.025711e-01  \n",
       "max                 5.174186e+00          4.991522e+00          5.475524e+00  \n",
       "\n",
       "[8 rows x 22 columns]"
      ]
     },
     "execution_count": 34,
     "metadata": {},
     "output_type": "execute_result"
    }
   ],
   "source": [
    "no_holiday3.describe()"
   ]
  },
  {
   "cell_type": "code",
   "execution_count": 35,
   "metadata": {
    "ExecuteTime": {
     "end_time": "2020-11-17T14:34:55.874586Z",
     "start_time": "2020-11-17T14:34:55.864226Z"
    }
   },
   "outputs": [
    {
     "data": {
      "text/plain": [
       "-0.011523951750692235"
      ]
     },
     "execution_count": 35,
     "metadata": {},
     "output_type": "execute_result"
    }
   ],
   "source": [
    "X = no_holiday3.drop(['volume_sales','quarter','week','month','year'], axis = 1)\n",
    "X = X.fillna(0)\n",
    "y = no_holiday3['volume_sales']\n",
    "y = y.fillna(0)\n",
    "X_train,X_test, y_train,y_test = train_test_split(X, y, test_size = 0.25,random_state =1)                                                 \n",
    "model = LinearRegression()\n",
    "model.fit(X_train,y_train)                                                   \n",
    "                                                    \n",
    "model.intercept_"
   ]
  },
  {
   "cell_type": "code",
   "execution_count": 36,
   "metadata": {
    "ExecuteTime": {
     "end_time": "2020-11-17T14:34:55.882055Z",
     "start_time": "2020-11-17T14:34:55.876584Z"
    }
   },
   "outputs": [
    {
     "name": "stdout",
     "output_type": "stream",
     "text": [
      "chicken_meal_deal\t:  -0.01\n",
      "sec_deli\t:  0.0\n",
      "sec_bakery\t:  -0.03\n",
      "sec_center\t:  0.01\n",
      "retail_cover\t:  -0.03\n",
      "BASEBALL\t:  0.02\n",
      "BILLBOARD\t:  -0.0\n",
      "DIGITAL\t:  -0.0\n",
      "RADIO\t:  -0.03\n",
      "SPONSORSHIP\t:  0.01\n",
      "TV\t:  -0.03\n",
      "VOD\t:  0.01\n",
      "holiday_binary\t:  0.0\n",
      "volume_sales_merch\t:  0.1\n",
      "volume_sales_price_reduce\t:  0.19\n",
      "volume_sales_feature\t:  -0.09\n",
      "volume_sales_display\t:  0.7\n"
     ]
    }
   ],
   "source": [
    "for i, col in enumerate(X_train.columns):\n",
    "    print(col + \"\\t: \", round(model.coef_[i], 2))"
   ]
  },
  {
   "cell_type": "code",
   "execution_count": 37,
   "metadata": {
    "ExecuteTime": {
     "end_time": "2020-11-17T14:34:55.888738Z",
     "start_time": "2020-11-17T14:34:55.883571Z"
    }
   },
   "outputs": [
    {
     "data": {
      "text/plain": [
       "0.9896558852670184"
      ]
     },
     "execution_count": 37,
     "metadata": {},
     "output_type": "execute_result"
    }
   ],
   "source": [
    "model.score(X_test, y_test)"
   ]
  },
  {
   "cell_type": "code",
   "execution_count": 38,
   "metadata": {
    "ExecuteTime": {
     "end_time": "2020-11-17T14:34:55.895352Z",
     "start_time": "2020-11-17T14:34:55.890178Z"
    }
   },
   "outputs": [
    {
     "data": {
      "text/plain": [
       "0.030191067544191257"
      ]
     },
     "execution_count": 38,
     "metadata": {},
     "output_type": "execute_result"
    }
   ],
   "source": [
    "y_predict = model.predict(X_test)\n",
    "MSE = mean_squared_error(y_predict, y_test)\n",
    "MSE"
   ]
  },
  {
   "cell_type": "code",
   "execution_count": 39,
   "metadata": {
    "ExecuteTime": {
     "end_time": "2020-11-17T14:34:55.899998Z",
     "start_time": "2020-11-17T14:34:55.897310Z"
    }
   },
   "outputs": [
    {
     "data": {
      "text/plain": [
       "0.17375576981554097"
      ]
     },
     "execution_count": 39,
     "metadata": {},
     "output_type": "execute_result"
    }
   ],
   "source": [
    "math.sqrt(MSE)"
   ]
  },
  {
   "cell_type": "markdown",
   "metadata": {},
   "source": [
    "## During Holiday "
   ]
  },
  {
   "cell_type": "code",
   "execution_count": 40,
   "metadata": {
    "ExecuteTime": {
     "end_time": "2020-11-17T14:34:55.985994Z",
     "start_time": "2020-11-17T14:34:52.458Z"
    }
   },
   "outputs": [],
   "source": [
    "from sklearn.preprocessing import StandardScaler\n",
    "\n",
    "numeric_cols = merge_data2.select_dtypes(include=[np.number])\n",
    "categoric_cols = merge_data2.select_dtypes(include=[object])\n",
    "scaler = StandardScaler()\n",
    "# Fit and transform, convert to DF\n",
    "numeric_cols_scaled = scaler.fit_transform(numeric_cols)\n",
    "numeric_cols_scaledDF = pd.DataFrame(numeric_cols_scaled, columns=numeric_cols.columns)\n",
    "# Concatenate categoric columns to scaled numeric columns\n",
    "final_DF = pd.concat([categoric_cols, numeric_cols_scaledDF], axis=1)\n",
    "merge_data3 = final_DF"
   ]
  },
  {
   "cell_type": "code",
   "execution_count": 41,
   "metadata": {
    "ExecuteTime": {
     "end_time": "2020-11-17T14:34:55.987538Z",
     "start_time": "2020-11-17T14:34:52.460Z"
    }
   },
   "outputs": [
    {
     "data": {
      "text/plain": [
       "0.006086513614411263"
      ]
     },
     "execution_count": 41,
     "metadata": {},
     "output_type": "execute_result"
    }
   ],
   "source": [
    "holiday = merge_data3[merge_data3['holiday_binary'] == 1]\n",
    "X = merge_data3.drop(['volume_sales','quarter','week','month','year'], axis = 1) \n",
    "y = merge_data3['volume_sales']\n",
    "X_train,X_test, y_train,y_test = train_test_split(X, y, test_size = 0.25,random_state =1)                                                 \n",
    "model = LinearRegression()\n",
    "model.fit(X_train,y_train)                                                   \n",
    "                                                    \n",
    "\n",
    "model.intercept_"
   ]
  },
  {
   "cell_type": "code",
   "execution_count": 42,
   "metadata": {
    "ExecuteTime": {
     "end_time": "2020-11-17T14:34:55.988785Z",
     "start_time": "2020-11-17T14:34:52.462Z"
    }
   },
   "outputs": [
    {
     "name": "stdout",
     "output_type": "stream",
     "text": [
      "chicken_meal_deal\t:  -0.02\n",
      "sec_deli\t:  0.03\n",
      "sec_bakery\t:  -0.02\n",
      "sec_center\t:  -0.01\n",
      "retail_cover\t:  -0.02\n",
      "BASEBALL\t:  0.03\n",
      "BILLBOARD\t:  -0.0\n",
      "DIGITAL\t:  -0.01\n",
      "RADIO\t:  -0.02\n",
      "SPONSORSHIP\t:  -0.02\n",
      "TV\t:  0.0\n",
      "VOD\t:  0.0\n",
      "holiday_binary\t:  -0.02\n",
      "volume_sales_merch\t:  0.25\n",
      "volume_sales_price_reduce\t:  0.05\n",
      "volume_sales_feature\t:  -0.17\n",
      "volume_sales_display\t:  0.85\n"
     ]
    }
   ],
   "source": [
    "for i, col in enumerate(X_train.columns):\n",
    "    print(col + \"\\t: \", round(model.coef_[i], 2))"
   ]
  },
  {
   "cell_type": "code",
   "execution_count": 43,
   "metadata": {
    "ExecuteTime": {
     "end_time": "2020-11-17T14:34:55.990001Z",
     "start_time": "2020-11-17T14:34:52.463Z"
    }
   },
   "outputs": [
    {
     "data": {
      "text/plain": [
       "0.993679491559313"
      ]
     },
     "execution_count": 43,
     "metadata": {},
     "output_type": "execute_result"
    }
   ],
   "source": [
    "model.score(X_test, y_test)"
   ]
  },
  {
   "cell_type": "code",
   "execution_count": 44,
   "metadata": {
    "ExecuteTime": {
     "end_time": "2020-11-17T14:34:55.991543Z",
     "start_time": "2020-11-17T14:34:52.466Z"
    }
   },
   "outputs": [
    {
     "data": {
      "text/plain": [
       "0.006259744130680048"
      ]
     },
     "execution_count": 44,
     "metadata": {},
     "output_type": "execute_result"
    }
   ],
   "source": [
    "y_predict = model.predict(X_test)\n",
    "MSE = mean_squared_error(y_predict, y_test)\n",
    "MSE"
   ]
  },
  {
   "cell_type": "code",
   "execution_count": 45,
   "metadata": {
    "ExecuteTime": {
     "end_time": "2020-11-17T14:34:55.992710Z",
     "start_time": "2020-11-17T14:34:52.467Z"
    }
   },
   "outputs": [
    {
     "data": {
      "text/plain": [
       "0.0791185447962742"
      ]
     },
     "execution_count": 45,
     "metadata": {},
     "output_type": "execute_result"
    }
   ],
   "source": [
    "math.sqrt(MSE)"
   ]
  },
  {
   "cell_type": "code",
   "execution_count": null,
   "metadata": {},
   "outputs": [],
   "source": []
  }
 ],
 "metadata": {
  "kernelspec": {
   "display_name": "Python 3",
   "language": "python",
   "name": "python3"
  },
  "language_info": {
   "codemirror_mode": {
    "name": "ipython",
    "version": 3
   },
   "file_extension": ".py",
   "mimetype": "text/x-python",
   "name": "python",
   "nbconvert_exporter": "python",
   "pygments_lexer": "ipython3",
   "version": "3.7.6"
  },
  "toc": {
   "base_numbering": 1,
   "nav_menu": {},
   "number_sections": true,
   "sideBar": true,
   "skip_h1_title": false,
   "title_cell": "Table of Contents",
   "title_sidebar": "Contents",
   "toc_cell": false,
   "toc_position": {},
   "toc_section_display": true,
   "toc_window_display": false
  },
  "varInspector": {
   "cols": {
    "lenName": 16,
    "lenType": 16,
    "lenVar": 40
   },
   "kernels_config": {
    "python": {
     "delete_cmd_postfix": "",
     "delete_cmd_prefix": "del ",
     "library": "var_list.py",
     "varRefreshCmd": "print(var_dic_list())"
    },
    "r": {
     "delete_cmd_postfix": ") ",
     "delete_cmd_prefix": "rm(",
     "library": "var_list.r",
     "varRefreshCmd": "cat(var_dic_list()) "
    }
   },
   "types_to_exclude": [
    "module",
    "function",
    "builtin_function_or_method",
    "instance",
    "_Feature"
   ],
   "window_display": false
  }
 },
 "nbformat": 4,
 "nbformat_minor": 4
}
